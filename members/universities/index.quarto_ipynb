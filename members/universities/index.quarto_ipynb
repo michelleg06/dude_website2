{
  "cells": [
    {
      "cell_type": "markdown",
      "metadata": {},
      "source": [
        "---\n",
        "title: \"Affiliated Universities\"\n",
        "subtitle: \"Participating Universities and Node Coordinators\"\n",
        "title-block-banner: \"#B8573E\"\n",
        "title-block-banner-color: body\n",
        "page-layout: full\n",
        "format:\n",
        "  html:\n",
        "    include-after-body: _footer.html\n",
        "    grid:\n",
        "      sidebar-width: 250px\n",
        "      body-width: 1000px\n",
        "      margin-width: 200px\n",
        "---\n",
        "\n",
        "```{css, echo = FALSE}\n",
        "\n",
        "```"
      ],
      "id": "88eec685"
    }
  ],
  "metadata": {
    "kernelspec": {
      "display_name": "Python 3",
      "language": "python",
      "name": "python3"
    }
  },
  "nbformat": 4,
  "nbformat_minor": 5
}